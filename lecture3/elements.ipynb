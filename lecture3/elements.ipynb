{
 "cells": [
  {
   "cell_type": "markdown",
   "id": "9cc1eb04-f4db-40ca-90b9-6ff56fbe9171",
   "metadata": {},
   "source": [
    "## Variables and DataTypes.\n",
    "\n",
    "In this section I cover defining variables in Python."
   ]
  },
  {
   "cell_type": "code",
   "execution_count": 6,
   "id": "d49a1877-f525-4d76-935a-7ec453c75896",
   "metadata": {},
   "outputs": [],
   "source": [
    "anInt = 2\n",
    "aFloat = 5.0\n",
    "aString = \"hello\"\n",
    "aList = [1,2,3]\n",
    "aDict = {'joe': 5, 'wally': 2}"
   ]
  },
  {
   "cell_type": "code",
   "execution_count": 2,
   "id": "3a80f1b9-d149-48bc-9751-6096ce907c72",
   "metadata": {},
   "outputs": [
    {
     "name": "stdout",
     "output_type": "stream",
     "text": [
      "2\n"
     ]
    }
   ],
   "source": [
    "print(anInt)"
   ]
  },
  {
   "cell_type": "code",
   "execution_count": 4,
   "id": "a0d9c4c7-b93c-48ae-bfab-e40b94cd0ebf",
   "metadata": {},
   "outputs": [
    {
     "data": {
      "text/plain": [
       "float"
      ]
     },
     "execution_count": 4,
     "metadata": {},
     "output_type": "execute_result"
    }
   ],
   "source": [
    "type(aFloat)"
   ]
  },
  {
   "cell_type": "code",
   "execution_count": 5,
   "id": "87d96584-ef56-4ccf-95da-82b33d783dea",
   "metadata": {},
   "outputs": [
    {
     "data": {
      "text/plain": [
       "str"
      ]
     },
     "execution_count": 5,
     "metadata": {},
     "output_type": "execute_result"
    }
   ],
   "source": [
    "type(aString)"
   ]
  },
  {
   "cell_type": "code",
   "execution_count": 7,
   "id": "33d78f73-3ef9-4da3-9eb5-47fc63a1075e",
   "metadata": {},
   "outputs": [
    {
     "data": {
      "text/plain": [
       "dict"
      ]
     },
     "execution_count": 7,
     "metadata": {},
     "output_type": "execute_result"
    }
   ],
   "source": [
    "type(aDict)"
   ]
  },
  {
   "cell_type": "markdown",
   "id": "7baf5849-0437-4f9b-8d9b-5026d2836772",
   "metadata": {},
   "source": [
    "## Modules\n",
    "\n",
    "Here we use two built-in Python modules: os and math"
   ]
  },
  {
   "cell_type": "code",
   "execution_count": 12,
   "id": "7d7293ec-1a5b-41af-a49a-215e488a1697",
   "metadata": {},
   "outputs": [],
   "source": [
    "import math, os"
   ]
  },
  {
   "cell_type": "code",
   "execution_count": 9,
   "id": "74505874-3fa5-4238-b4f1-68a7e25a1bf3",
   "metadata": {},
   "outputs": [
    {
     "name": "stdout",
     "output_type": "stream",
     "text": [
      "3.141592653589793\n"
     ]
    }
   ],
   "source": [
    "print(math.pi)"
   ]
  },
  {
   "cell_type": "code",
   "execution_count": 11,
   "id": "e1367917-915b-43f7-b64e-6dcd89acbf51",
   "metadata": {},
   "outputs": [
    {
     "data": {
      "text/plain": [
       "'C:\\\\Users\\\\weste\\\\Documents\\\\GitHub\\\\pythoncourse_joe\\\\lecture3'"
      ]
     },
     "execution_count": 11,
     "metadata": {},
     "output_type": "execute_result"
    }
   ],
   "source": [
    "os.getcwd()"
   ]
  },
  {
   "cell_type": "markdown",
   "id": "638dffd5-c174-44fe-87de-e3df97d29747",
   "metadata": {},
   "source": [
    "## Python as a Calculator"
   ]
  },
  {
   "cell_type": "code",
   "execution_count": 13,
   "id": "70fb5ead-cdb5-434a-859e-f02c82b90b32",
   "metadata": {},
   "outputs": [
    {
     "data": {
      "text/plain": [
       "4"
      ]
     },
     "execution_count": 13,
     "metadata": {},
     "output_type": "execute_result"
    }
   ],
   "source": [
    "2+2"
   ]
  },
  {
   "cell_type": "code",
   "execution_count": 14,
   "id": "3323ed56-8bc4-4434-9752-53431c6e3799",
   "metadata": {},
   "outputs": [
    {
     "data": {
      "text/plain": [
       "-6"
      ]
     },
     "execution_count": 14,
     "metadata": {},
     "output_type": "execute_result"
    }
   ],
   "source": [
    "83-89"
   ]
  },
  {
   "cell_type": "code",
   "execution_count": 16,
   "id": "542e3f0c-b19c-4726-b403-7ab5d37b9b3a",
   "metadata": {},
   "outputs": [
    {
     "name": "stdout",
     "output_type": "stream",
     "text": [
      "9\n"
     ]
    }
   ],
   "source": [
    "product = 3*3\n",
    "print(product)"
   ]
  },
  {
   "cell_type": "code",
   "execution_count": 17,
   "id": "47b672d5-5650-48e1-9a67-11f442a01fe9",
   "metadata": {},
   "outputs": [
    {
     "data": {
      "text/plain": [
       "2.0"
      ]
     },
     "execution_count": 17,
     "metadata": {},
     "output_type": "execute_result"
    }
   ],
   "source": [
    "a = 50\n",
    "b = 25\n",
    "a/b"
   ]
  },
  {
   "cell_type": "code",
   "execution_count": 18,
   "id": "39748613-2f8b-4b87-9773-7559d962a146",
   "metadata": {},
   "outputs": [
    {
     "name": "stdout",
     "output_type": "stream",
     "text": [
      "2500\n"
     ]
    }
   ],
   "source": [
    "asquared = a**2\n",
    "print(asquared)"
   ]
  },
  {
   "cell_type": "markdown",
   "id": "1f3bd277-703b-4bb8-bb35-e9058999626c",
   "metadata": {},
   "source": [
    "## List\n",
    "\n",
    "A list is an ordered set of objects."
   ]
  },
  {
   "cell_type": "code",
   "execution_count": 33,
   "id": "43fd1c54-b60b-4344-9564-135851f29a6a",
   "metadata": {},
   "outputs": [],
   "source": [
    "ints = [1,2,3,4]\n",
    "reals = [1,2,3.5,4]\n",
    "strings = ['h','e','l','l','o']\n",
    "combo = [1, 'h', 2, 'l', 3]"
   ]
  },
  {
   "cell_type": "code",
   "execution_count": 21,
   "id": "7aa7b8aa-1a3d-46e2-9eaa-5c4635d29f19",
   "metadata": {},
   "outputs": [
    {
     "name": "stdout",
     "output_type": "stream",
     "text": [
      "1\n",
      "4\n"
     ]
    }
   ],
   "source": [
    "print(ints[0])\n",
    "print(ints[3])"
   ]
  },
  {
   "cell_type": "code",
   "execution_count": 23,
   "id": "e98f0222-d83a-497c-b806-d5ee0e913ad8",
   "metadata": {},
   "outputs": [
    {
     "name": "stdout",
     "output_type": "stream",
     "text": [
      "4\n"
     ]
    }
   ],
   "source": [
    "print(ints[-1])"
   ]
  },
  {
   "cell_type": "code",
   "execution_count": 32,
   "id": "f17af230-7889-4fa2-9ab6-cebd3f1a1a88",
   "metadata": {},
   "outputs": [
    {
     "name": "stdout",
     "output_type": "stream",
     "text": [
      "[2]\n",
      "[1, 2]\n",
      "[]\n"
     ]
    }
   ],
   "source": [
    "#splicing\n",
    "print(ints[1:3])\n",
    "print(ints[:2])\n",
    "print(ints[2:])"
   ]
  },
  {
   "cell_type": "code",
   "execution_count": 25,
   "id": "49ce29c7-d494-4ad3-aa2f-d0f553310c84",
   "metadata": {},
   "outputs": [
    {
     "name": "stdout",
     "output_type": "stream",
     "text": [
      "[1, 2, 3, 4, 5]\n"
     ]
    }
   ],
   "source": [
    "ints.append(5)\n",
    "print(ints)"
   ]
  },
  {
   "cell_type": "code",
   "execution_count": 31,
   "id": "369aad97-1550-4692-b044-dad06bf7aade",
   "metadata": {},
   "outputs": [
    {
     "name": "stdout",
     "output_type": "stream",
     "text": [
      "[1, 2]\n"
     ]
    }
   ],
   "source": [
    "lastItem = ints.pop()\n",
    "print(ints)"
   ]
  },
  {
   "cell_type": "code",
   "execution_count": 29,
   "id": "1a0b5a6c-bf9c-4cb7-914b-0cefd5262789",
   "metadata": {},
   "outputs": [
    {
     "name": "stdout",
     "output_type": "stream",
     "text": [
      "4\n"
     ]
    }
   ],
   "source": [
    "print(lastItem)"
   ]
  },
  {
   "cell_type": "code",
   "execution_count": 35,
   "id": "3b3b77e0-57b0-455d-b307-f2ae96f5bf2a",
   "metadata": {},
   "outputs": [
    {
     "name": "stdout",
     "output_type": "stream",
     "text": [
      "1\n",
      "2\n",
      "3\n",
      "4\n",
      "[1, 2, 3, 4]\n"
     ]
    }
   ],
   "source": [
    "for i in ints:\n",
    "    print(i)\n",
    "\n",
    "print(ints)"
   ]
  },
  {
   "cell_type": "markdown",
   "id": "a193ae04-1f22-4ba8-ae8f-f2a15553b14c",
   "metadata": {},
   "source": [
    "## Dictionaries\n",
    "\n",
    "Disctionaries are used in Python to store key:value pairs."
   ]
  },
  {
   "cell_type": "code",
   "execution_count": 1,
   "id": "eacc8300-04ab-417e-9b55-676206517628",
   "metadata": {},
   "outputs": [],
   "source": [
    "aDict = {'joe': 4, 'wally': 2}"
   ]
  },
  {
   "cell_type": "code",
   "execution_count": 2,
   "id": "9c1492ec-939a-4edc-b3fe-8b467c8be6d0",
   "metadata": {},
   "outputs": [
    {
     "name": "stdout",
     "output_type": "stream",
     "text": [
      "{'joe': 4, 'wally': 2}\n"
     ]
    }
   ],
   "source": [
    "print(aDict)"
   ]
  },
  {
   "cell_type": "code",
   "execution_count": 3,
   "id": "12b8e5a7-0787-433e-8223-6d6ea07427ff",
   "metadata": {},
   "outputs": [
    {
     "name": "stdout",
     "output_type": "stream",
     "text": [
      "{'joe': 1, 'wally': 2}\n"
     ]
    }
   ],
   "source": [
    "aDict['joe'] = 1\n",
    "print(aDict)"
   ]
  },
  {
   "cell_type": "code",
   "execution_count": 4,
   "id": "3c6a9655-c118-4d6f-90a8-d571c9504c82",
   "metadata": {},
   "outputs": [
    {
     "name": "stdout",
     "output_type": "stream",
     "text": [
      "2\n"
     ]
    }
   ],
   "source": [
    "print(aDict['wally'])"
   ]
  },
  {
   "cell_type": "code",
   "execution_count": 5,
   "id": "4d2562ed-71ec-4793-bad3-e12fa6f15c32",
   "metadata": {},
   "outputs": [],
   "source": [
    "del aDict['wally']"
   ]
  },
  {
   "cell_type": "code",
   "execution_count": 6,
   "id": "932f000a-4946-419e-995c-a7ca8cd10538",
   "metadata": {},
   "outputs": [
    {
     "name": "stdout",
     "output_type": "stream",
     "text": [
      "{'joe': 1}\n"
     ]
    }
   ],
   "source": [
    "print(aDict)"
   ]
  },
  {
   "cell_type": "code",
   "execution_count": 7,
   "id": "5bb335c8-9500-4432-bf3f-d73207f9357f",
   "metadata": {},
   "outputs": [
    {
     "name": "stdout",
     "output_type": "stream",
     "text": [
      "{'joe': 1, 'isla': 1}\n"
     ]
    }
   ],
   "source": [
    "aDict['isla'] = 1\n",
    "print(aDict)"
   ]
  },
  {
   "cell_type": "markdown",
   "id": "131ab0e9-5a54-45b7-b3ac-ea5f85b19e3d",
   "metadata": {},
   "source": [
    "## if Statements\n",
    "\n",
    "We can use `if` statements to control or decide which code will be executed. "
   ]
  },
  {
   "cell_type": "code",
   "execution_count": 11,
   "id": "99ec1052-9c9a-47f0-aa11-656e2d9a7a40",
   "metadata": {},
   "outputs": [
    {
     "name": "stdout",
     "output_type": "stream",
     "text": [
      "value is more than or equal to 200\n"
     ]
    }
   ],
   "source": [
    "value = 300\n",
    "\n",
    "if value < 200:\n",
    "    print(\"value is less than 200\")\n",
    "else:\n",
    "    print(\"value is more than or equal to 200\")"
   ]
  },
  {
   "cell_type": "markdown",
   "id": "160afe4b-3cbb-4779-87b6-70462ac088db",
   "metadata": {},
   "source": [
    "### Comparison Operators \n",
    "\n",
    "Comparison operators can be used to compare two values"
   ]
  },
  {
   "cell_type": "code",
   "execution_count": 12,
   "id": "21976fa0-ea06-4374-863d-14410fe0ba5c",
   "metadata": {},
   "outputs": [
    {
     "name": "stdout",
     "output_type": "stream",
     "text": [
      "True\n"
     ]
    }
   ],
   "source": [
    "print(1==1)"
   ]
  },
  {
   "cell_type": "code",
   "execution_count": 13,
   "id": "4e6b22a6-dc47-476e-a308-e90d8e8d73f6",
   "metadata": {},
   "outputs": [
    {
     "name": "stdout",
     "output_type": "stream",
     "text": [
      "False\n"
     ]
    }
   ],
   "source": [
    "print(1!=1)"
   ]
  },
  {
   "cell_type": "code",
   "execution_count": 14,
   "id": "b1f2ca1d-574b-4fe3-a128-b65b920fa7da",
   "metadata": {},
   "outputs": [
    {
     "name": "stdout",
     "output_type": "stream",
     "text": [
      "False\n",
      "False\n"
     ]
    },
    {
     "data": {
      "text/plain": [
       "bool"
      ]
     },
     "execution_count": 14,
     "metadata": {},
     "output_type": "execute_result"
    }
   ],
   "source": [
    "gt = 1 > 2\n",
    "gte = 1 >= 2\n",
    "print(gt)\n",
    "print(gte)\n",
    "type(gt)"
   ]
  },
  {
   "cell_type": "code",
   "execution_count": 15,
   "id": "3e2e0f40-8857-4546-afcb-216acaea77fa",
   "metadata": {},
   "outputs": [
    {
     "name": "stdout",
     "output_type": "stream",
     "text": [
      "True\n"
     ]
    }
   ],
   "source": [
    "print(gt==0)"
   ]
  },
  {
   "cell_type": "markdown",
   "id": "4f03ad54-9fb6-484c-9ead-e91fc3bc21fa",
   "metadata": {},
   "source": [
    "## Logical Operators\n",
    "\n",
    "Logical operators are ussed to combine conditional statements."
   ]
  },
  {
   "cell_type": "code",
   "execution_count": 16,
   "id": "83d9cd06-b481-4a4b-bba8-90c8a88f269d",
   "metadata": {},
   "outputs": [
    {
     "name": "stdout",
     "output_type": "stream",
     "text": [
      "True\n"
     ]
    }
   ],
   "source": [
    "print (1<2 and 2<3)"
   ]
  },
  {
   "cell_type": "code",
   "execution_count": 18,
   "id": "0e1f6911-6c9f-4f68-9bed-1e7b2a1b1f6e",
   "metadata": {},
   "outputs": [
    {
     "name": "stdout",
     "output_type": "stream",
     "text": [
      "False\n"
     ]
    }
   ],
   "source": [
    "print(not(2>1))"
   ]
  },
  {
   "cell_type": "code",
   "execution_count": 19,
   "id": "be3d3557-6f93-47b0-a2de-3c95ba6e6f6c",
   "metadata": {},
   "outputs": [
    {
     "name": "stdout",
     "output_type": "stream",
     "text": [
      "True\n"
     ]
    }
   ],
   "source": [
    "print(1>3 or 3>1)"
   ]
  },
  {
   "cell_type": "markdown",
   "id": "52fa331f-f2bc-4b4e-8d0c-009f2ffbbeda",
   "metadata": {},
   "source": [
    "## Custom Function/Methods\n"
   ]
  },
  {
   "cell_type": "code",
   "execution_count": 20,
   "id": "d5e95c76-7561-46db-9a5d-0112a22188fe",
   "metadata": {},
   "outputs": [],
   "source": [
    "def hello_world():\n",
    "    print(\"hello world\")"
   ]
  },
  {
   "cell_type": "code",
   "execution_count": 21,
   "id": "40f1ec9e-bd2c-4bec-8016-bebf9af35a55",
   "metadata": {},
   "outputs": [
    {
     "name": "stdout",
     "output_type": "stream",
     "text": [
      "hello world\n"
     ]
    }
   ],
   "source": [
    "hello_world()"
   ]
  },
  {
   "cell_type": "code",
   "execution_count": 22,
   "id": "767f1b12-b199-4bc1-aeb0-cb85993408a5",
   "metadata": {},
   "outputs": [],
   "source": [
    "def bigger(a, b):\n",
    "    # this will return whichever value a or b is larger\n",
    "    if a > b:\n",
    "        result = a\n",
    "    else:\n",
    "        result = b\n",
    "    return result"
   ]
  },
  {
   "cell_type": "code",
   "execution_count": null,
   "id": "9f60e1c0-afe0-4438-84e1-9015b0f3bcb5",
   "metadata": {},
   "outputs": [],
   "source": [
    "print(bigger(3, 5))"
   ]
  },
  {
   "cell_type": "code",
   "execution_count": 24,
   "id": "90748a66-83c4-4986-9857-5cbb05d3623c",
   "metadata": {},
   "outputs": [
    {
     "name": "stdout",
     "output_type": "stream",
     "text": [
      "5\n"
     ]
    }
   ],
   "source": [
    "result = bigger(3, 5)\n",
    "print(result)"
   ]
  },
  {
   "cell_type": "markdown",
   "id": "61ff7b1d-fe9c-420b-afee-564a133963b1",
   "metadata": {},
   "source": [
    "## Classes\n",
    "\n",
    "Classes allow us to create a new type of object that allow for added functionality."
   ]
  },
  {
   "cell_type": "code",
   "execution_count": 30,
   "id": "a3d2cad0-3e75-440b-bf65-f48bcc9d7aea",
   "metadata": {},
   "outputs": [],
   "source": [
    "class Agent: \n",
    "    \n",
    "    def __init__(self, u, e):\n",
    "        self.u = u\n",
    "        self.e = e\n",
    "    \n",
    "    def get_utility(self, x, y):\n",
    "        if self.u == 'linear':\n",
    "            result = x + y\n",
    "        if self.u == 'leontif':\n",
    "            result = min(x, y)\n",
    "        return result"
   ]
  },
  {
   "cell_type": "code",
   "execution_count": 31,
   "id": "7544e194-ead6-442d-ad01-9b00acc13cb7",
   "metadata": {},
   "outputs": [
    {
     "name": "stdout",
     "output_type": "stream",
     "text": [
      "linear 10\n"
     ]
    }
   ],
   "source": [
    "agent1 = Agent('linear', 10)\n",
    "print(agent1.u, agent1.e)"
   ]
  },
  {
   "cell_type": "code",
   "execution_count": 32,
   "id": "ed9af136-6628-49b1-b21f-f9d9b3381a60",
   "metadata": {},
   "outputs": [
    {
     "name": "stdout",
     "output_type": "stream",
     "text": [
      "leontif 20\n"
     ]
    }
   ],
   "source": [
    "agent2 = Agent('leontif', 20)\n",
    "print(agent2.u, agent2.e)"
   ]
  },
  {
   "cell_type": "code",
   "execution_count": 36,
   "id": "3eb62dc6-a5c0-4e69-abd9-4cd366a74649",
   "metadata": {},
   "outputs": [
    {
     "data": {
      "text/plain": [
       "15"
      ]
     },
     "execution_count": 36,
     "metadata": {},
     "output_type": "execute_result"
    }
   ],
   "source": [
    "agent1.get_utility(5, 10)"
   ]
  },
  {
   "cell_type": "code",
   "execution_count": 37,
   "id": "1c4dd0cc-0df1-4427-bd47-08ce5a48f4cb",
   "metadata": {},
   "outputs": [
    {
     "data": {
      "text/plain": [
       "1"
      ]
     },
     "execution_count": 37,
     "metadata": {},
     "output_type": "execute_result"
    }
   ],
   "source": [
    "agent2.get_utility(100, 1)"
   ]
  },
  {
   "cell_type": "markdown",
   "id": "5f7a7b52-45f7-435f-ac67-dad34b3df661",
   "metadata": {},
   "source": [
    "## Objects in Python"
   ]
  },
  {
   "cell_type": "code",
   "execution_count": 38,
   "id": "b0b7ead3-f12b-45c4-b370-9c372397e4e3",
   "metadata": {},
   "outputs": [],
   "source": [
    "alist = [1,2,3]"
   ]
  },
  {
   "cell_type": "code",
   "execution_count": 39,
   "id": "d2857173-09d4-4ab5-bebc-dc9143a7e9b0",
   "metadata": {},
   "outputs": [
    {
     "name": "stdout",
     "output_type": "stream",
     "text": [
      "[1, 2, 3, 4]\n"
     ]
    }
   ],
   "source": [
    "alist.append(4)\n",
    "print(alist)"
   ]
  },
  {
   "cell_type": "markdown",
   "id": "2b22bacf-24bd-4fec-8846-1434b15191fb",
   "metadata": {},
   "source": [
    "### Strings"
   ]
  },
  {
   "cell_type": "code",
   "execution_count": 41,
   "id": "34a980fd-3861-4552-8e52-a81a038afb67",
   "metadata": {},
   "outputs": [],
   "source": [
    "aString = \"hello$world\""
   ]
  },
  {
   "cell_type": "code",
   "execution_count": 43,
   "id": "9826b489-06a7-47d2-ba1e-95c81f1361b8",
   "metadata": {},
   "outputs": [
    {
     "name": "stdout",
     "output_type": "stream",
     "text": [
      "hello world\n"
     ]
    }
   ],
   "source": [
    "aString = aString.replace('$', ' ')\n",
    "print(aString)"
   ]
  },
  {
   "cell_type": "code",
   "execution_count": 46,
   "id": "addb9bed-694a-4692-a96c-1d694ec6621b",
   "metadata": {},
   "outputs": [
    {
     "name": "stdout",
     "output_type": "stream",
     "text": [
      "Hello World\n"
     ]
    }
   ],
   "source": [
    "aString = aString.title()\n",
    "print(aString)"
   ]
  },
  {
   "cell_type": "code",
   "execution_count": 48,
   "id": "c9f69539-b4a1-4b97-bc26-b1980227ad7f",
   "metadata": {},
   "outputs": [
    {
     "name": "stdout",
     "output_type": "stream",
     "text": [
      "Hello\n",
      "World\n"
     ]
    }
   ],
   "source": [
    "hello, world = aString.split(' ')\n",
    "print(hello)\n",
    "print(world)"
   ]
  },
  {
   "cell_type": "code",
   "execution_count": 49,
   "id": "6f9f207b-8992-4777-90f1-d480d42d4547",
   "metadata": {},
   "outputs": [
    {
     "name": "stdout",
     "output_type": "stream",
     "text": [
      "Hello,\n"
     ]
    }
   ],
   "source": [
    "hello = hello + ','\n",
    "print(hello)"
   ]
  },
  {
   "cell_type": "code",
   "execution_count": 50,
   "id": "b39c3e9f-46c4-413b-8d7d-d93f93403518",
   "metadata": {},
   "outputs": [
    {
     "name": "stdout",
     "output_type": "stream",
     "text": [
      "Hello, World!\n"
     ]
    }
   ],
   "source": [
    "aString = hello + ' ' + world + '!'\n",
    "print(aString)"
   ]
  },
  {
   "cell_type": "code",
   "execution_count": null,
   "id": "a65f2a08-bf10-4daa-beeb-7580fccd5957",
   "metadata": {},
   "outputs": [],
   "source": []
  }
 ],
 "metadata": {
  "kernelspec": {
   "display_name": "Python 3",
   "language": "python",
   "name": "python3"
  },
  "language_info": {
   "codemirror_mode": {
    "name": "ipython",
    "version": 3
   },
   "file_extension": ".py",
   "mimetype": "text/x-python",
   "name": "python",
   "nbconvert_exporter": "python",
   "pygments_lexer": "ipython3",
   "version": "3.7.9"
  }
 },
 "nbformat": 4,
 "nbformat_minor": 5
}
