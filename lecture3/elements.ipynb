{
 "cells": [
  {
   "cell_type": "markdown",
   "id": "9cc1eb04-f4db-40ca-90b9-6ff56fbe9171",
   "metadata": {},
   "source": [
    "## Variables and DataTypes.\n",
    "\n",
    "In this section I cover defining variables in Python."
   ]
  },
  {
   "cell_type": "code",
   "execution_count": 6,
   "id": "d49a1877-f525-4d76-935a-7ec453c75896",
   "metadata": {},
   "outputs": [],
   "source": [
    "anInt = 2\n",
    "aFloat = 5.0\n",
    "aString = \"hello\"\n",
    "aList = [1,2,3]\n",
    "aDict = {'joe': 5, 'wally': 2}"
   ]
  },
  {
   "cell_type": "code",
   "execution_count": 2,
   "id": "3a80f1b9-d149-48bc-9751-6096ce907c72",
   "metadata": {},
   "outputs": [
    {
     "name": "stdout",
     "output_type": "stream",
     "text": [
      "2\n"
     ]
    }
   ],
   "source": [
    "print(anInt)"
   ]
  },
  {
   "cell_type": "code",
   "execution_count": 4,
   "id": "a0d9c4c7-b93c-48ae-bfab-e40b94cd0ebf",
   "metadata": {},
   "outputs": [
    {
     "data": {
      "text/plain": [
       "float"
      ]
     },
     "execution_count": 4,
     "metadata": {},
     "output_type": "execute_result"
    }
   ],
   "source": [
    "type(aFloat)"
   ]
  },
  {
   "cell_type": "code",
   "execution_count": 5,
   "id": "87d96584-ef56-4ccf-95da-82b33d783dea",
   "metadata": {},
   "outputs": [
    {
     "data": {
      "text/plain": [
       "str"
      ]
     },
     "execution_count": 5,
     "metadata": {},
     "output_type": "execute_result"
    }
   ],
   "source": [
    "type(aString)"
   ]
  },
  {
   "cell_type": "code",
   "execution_count": 7,
   "id": "33d78f73-3ef9-4da3-9eb5-47fc63a1075e",
   "metadata": {},
   "outputs": [
    {
     "data": {
      "text/plain": [
       "dict"
      ]
     },
     "execution_count": 7,
     "metadata": {},
     "output_type": "execute_result"
    }
   ],
   "source": [
    "type(aDict)"
   ]
  },
  {
   "cell_type": "markdown",
   "id": "7baf5849-0437-4f9b-8d9b-5026d2836772",
   "metadata": {},
   "source": [
    "## Modules\n",
    "\n",
    "Here we use two built-in Python modules: os and math"
   ]
  },
  {
   "cell_type": "code",
   "execution_count": 12,
   "id": "7d7293ec-1a5b-41af-a49a-215e488a1697",
   "metadata": {},
   "outputs": [],
   "source": [
    "import math, os"
   ]
  },
  {
   "cell_type": "code",
   "execution_count": 9,
   "id": "74505874-3fa5-4238-b4f1-68a7e25a1bf3",
   "metadata": {},
   "outputs": [
    {
     "name": "stdout",
     "output_type": "stream",
     "text": [
      "3.141592653589793\n"
     ]
    }
   ],
   "source": [
    "print(math.pi)"
   ]
  },
  {
   "cell_type": "code",
   "execution_count": 11,
   "id": "e1367917-915b-43f7-b64e-6dcd89acbf51",
   "metadata": {},
   "outputs": [
    {
     "data": {
      "text/plain": [
       "'C:\\\\Users\\\\weste\\\\Documents\\\\GitHub\\\\pythoncourse_joe\\\\lecture3'"
      ]
     },
     "execution_count": 11,
     "metadata": {},
     "output_type": "execute_result"
    }
   ],
   "source": [
    "os.getcwd()"
   ]
  },
  {
   "cell_type": "markdown",
   "id": "638dffd5-c174-44fe-87de-e3df97d29747",
   "metadata": {},
   "source": [
    "## Python as a Calculator"
   ]
  },
  {
   "cell_type": "code",
   "execution_count": 13,
   "id": "70fb5ead-cdb5-434a-859e-f02c82b90b32",
   "metadata": {},
   "outputs": [
    {
     "data": {
      "text/plain": [
       "4"
      ]
     },
     "execution_count": 13,
     "metadata": {},
     "output_type": "execute_result"
    }
   ],
   "source": [
    "2+2"
   ]
  },
  {
   "cell_type": "code",
   "execution_count": 14,
   "id": "3323ed56-8bc4-4434-9752-53431c6e3799",
   "metadata": {},
   "outputs": [
    {
     "data": {
      "text/plain": [
       "-6"
      ]
     },
     "execution_count": 14,
     "metadata": {},
     "output_type": "execute_result"
    }
   ],
   "source": [
    "83-89"
   ]
  },
  {
   "cell_type": "code",
   "execution_count": 16,
   "id": "542e3f0c-b19c-4726-b403-7ab5d37b9b3a",
   "metadata": {},
   "outputs": [
    {
     "name": "stdout",
     "output_type": "stream",
     "text": [
      "9\n"
     ]
    }
   ],
   "source": [
    "product = 3*3\n",
    "print(product)"
   ]
  },
  {
   "cell_type": "code",
   "execution_count": 17,
   "id": "47b672d5-5650-48e1-9a67-11f442a01fe9",
   "metadata": {},
   "outputs": [
    {
     "data": {
      "text/plain": [
       "2.0"
      ]
     },
     "execution_count": 17,
     "metadata": {},
     "output_type": "execute_result"
    }
   ],
   "source": [
    "a = 50\n",
    "b = 25\n",
    "a/b"
   ]
  },
  {
   "cell_type": "code",
   "execution_count": 18,
   "id": "39748613-2f8b-4b87-9773-7559d962a146",
   "metadata": {},
   "outputs": [
    {
     "name": "stdout",
     "output_type": "stream",
     "text": [
      "2500\n"
     ]
    }
   ],
   "source": [
    "asquared = a**2\n",
    "print(asquared)"
   ]
  },
  {
   "cell_type": "markdown",
   "id": "1f3bd277-703b-4bb8-bb35-e9058999626c",
   "metadata": {},
   "source": [
    "## List\n",
    "\n",
    "A list is an ordered set of objects."
   ]
  },
  {
   "cell_type": "code",
   "execution_count": 33,
   "id": "43fd1c54-b60b-4344-9564-135851f29a6a",
   "metadata": {},
   "outputs": [],
   "source": [
    "ints = [1,2,3,4]\n",
    "reals = [1,2,3.5,4]\n",
    "strings = ['h','e','l','l','o']\n",
    "combo = [1, 'h', 2, 'l', 3]"
   ]
  },
  {
   "cell_type": "code",
   "execution_count": 21,
   "id": "7aa7b8aa-1a3d-46e2-9eaa-5c4635d29f19",
   "metadata": {},
   "outputs": [
    {
     "name": "stdout",
     "output_type": "stream",
     "text": [
      "1\n",
      "4\n"
     ]
    }
   ],
   "source": [
    "print(ints[0])\n",
    "print(ints[3])"
   ]
  },
  {
   "cell_type": "code",
   "execution_count": 23,
   "id": "e98f0222-d83a-497c-b806-d5ee0e913ad8",
   "metadata": {},
   "outputs": [
    {
     "name": "stdout",
     "output_type": "stream",
     "text": [
      "4\n"
     ]
    }
   ],
   "source": [
    "print(ints[-1])"
   ]
  },
  {
   "cell_type": "code",
   "execution_count": 32,
   "id": "f17af230-7889-4fa2-9ab6-cebd3f1a1a88",
   "metadata": {},
   "outputs": [
    {
     "name": "stdout",
     "output_type": "stream",
     "text": [
      "[2]\n",
      "[1, 2]\n",
      "[]\n"
     ]
    }
   ],
   "source": [
    "#splicing\n",
    "print(ints[1:3])\n",
    "print(ints[:2])\n",
    "print(ints[2:])"
   ]
  },
  {
   "cell_type": "code",
   "execution_count": 25,
   "id": "49ce29c7-d494-4ad3-aa2f-d0f553310c84",
   "metadata": {},
   "outputs": [
    {
     "name": "stdout",
     "output_type": "stream",
     "text": [
      "[1, 2, 3, 4, 5]\n"
     ]
    }
   ],
   "source": [
    "ints.append(5)\n",
    "print(ints)"
   ]
  },
  {
   "cell_type": "code",
   "execution_count": 31,
   "id": "369aad97-1550-4692-b044-dad06bf7aade",
   "metadata": {},
   "outputs": [
    {
     "name": "stdout",
     "output_type": "stream",
     "text": [
      "[1, 2]\n"
     ]
    }
   ],
   "source": [
    "lastItem = ints.pop()\n",
    "print(ints)"
   ]
  },
  {
   "cell_type": "code",
   "execution_count": 29,
   "id": "1a0b5a6c-bf9c-4cb7-914b-0cefd5262789",
   "metadata": {},
   "outputs": [
    {
     "name": "stdout",
     "output_type": "stream",
     "text": [
      "4\n"
     ]
    }
   ],
   "source": [
    "print(lastItem)"
   ]
  },
  {
   "cell_type": "code",
   "execution_count": 35,
   "id": "3b3b77e0-57b0-455d-b307-f2ae96f5bf2a",
   "metadata": {},
   "outputs": [
    {
     "name": "stdout",
     "output_type": "stream",
     "text": [
      "1\n",
      "2\n",
      "3\n",
      "4\n",
      "[1, 2, 3, 4]\n"
     ]
    }
   ],
   "source": [
    "for i in ints:\n",
    "    print(i)\n",
    "\n",
    "print(ints)"
   ]
  },
  {
   "cell_type": "code",
   "execution_count": null,
   "id": "e3afa53c-3dfe-4154-a1ef-ac5a76380832",
   "metadata": {},
   "outputs": [],
   "source": []
  }
 ],
 "metadata": {
  "kernelspec": {
   "display_name": "Python 3",
   "language": "python",
   "name": "python3"
  },
  "language_info": {
   "codemirror_mode": {
    "name": "ipython",
    "version": 3
   },
   "file_extension": ".py",
   "mimetype": "text/x-python",
   "name": "python",
   "nbconvert_exporter": "python",
   "pygments_lexer": "ipython3",
   "version": "3.7.9"
  }
 },
 "nbformat": 4,
 "nbformat_minor": 5
}
